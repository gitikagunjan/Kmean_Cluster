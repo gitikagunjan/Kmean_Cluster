{
 "cells": [
  {
   "cell_type": "code",
   "execution_count": 12,
   "id": "4745f936",
   "metadata": {},
   "outputs": [
    {
     "name": "stdout",
     "output_type": "stream",
     "text": [
      "\n",
      "Begin k-means clustering demo \n",
      "\n",
      "Strategy 1: k and initial points\n",
      "3\n",
      "[[6.6384501  8.33574252]\n",
      " [7.06572    2.08940967]\n",
      " [2.61508272 3.80685209]]\n",
      "5\n",
      "[[7.9628009  2.81761275]\n",
      " [1.69565649 7.68082458]\n",
      " [1.76666071 4.41759655]\n",
      " [5.91832765 3.04231385]\n",
      " [2.0614632  8.22584366]]\n"
     ]
    }
   ],
   "source": [
    "from Precode import *\n",
    "import numpy as np\n",
    "import pandas as pd\n",
    "import matplotlib.pyplot as plt\n",
    "\n",
    "\n",
    "\n",
    "print(\"\\nBegin k-means clustering demo \\n\")\n",
    "data = np.load('AllSamples.npy')\n",
    "k1,i_point1,k2,i_point2 = initial_S1('1226371265') # please replace 0111 with your last four digit of your ID\n",
    "print(k1)\n",
    "print(i_point1)\n",
    "print(k2)\n",
    "print(i_point2)  \n",
    "\n",
    "\n"
   ]
  },
  {
   "cell_type": "code",
   "execution_count": 2,
   "id": "ecd7579b",
   "metadata": {},
   "outputs": [
    {
     "name": "stdout",
     "output_type": "stream",
     "text": [
      "(300, 2)\n"
     ]
    }
   ],
   "source": [
    "print(data.shape)"
   ]
  },
  {
   "cell_type": "code",
   "execution_count": 13,
   "id": "ae6f99bc",
   "metadata": {},
   "outputs": [],
   "source": [
    "\n",
    "ct= np.array([[6.6384501 , 8.33574252],\n",
    "              [7.06572 , 2.08940967],\n",
    "              [2.61508272 ,3.80685209]])\n",
    "\n",
    "ct5 = np.array([[7.9628009 ,2.81761275],\n",
    " [1.69565649 ,7.68082458],\n",
    " [1.76666071 ,4.41759655],\n",
    " [5.91832765 ,3.04231385],\n",
    " [2.0614632  ,8.22584366]])"
   ]
  },
  {
   "cell_type": "code",
   "execution_count": 3,
   "id": "e0e7f65c",
   "metadata": {},
   "outputs": [],
   "source": [
    "from sklearn.cluster import KMeans\n",
    "#wcss = []\n",
    "#for i in range(1,11):\n",
    "    #kmeans=KMeans(n_clusters=i, init='k-means++')\n",
    "    #kmeans.fit(data)\n",
    "    #wcss.append(kmeans.inertia_)"
   ]
  },
  {
   "cell_type": "code",
   "execution_count": 8,
   "id": "16a57c67",
   "metadata": {},
   "outputs": [],
   "source": [
    "wcss = []\n",
    "for i in range(2,11):\n",
    "    kmeans=KMeans(n_clusters=i, init='k-means++')\n",
    "    kmeans.fit(data)\n",
    "    wcss.append(kmeans.inertia_)"
   ]
  },
  {
   "cell_type": "code",
   "execution_count": 6,
   "id": "05fa6b56",
   "metadata": {},
   "outputs": [],
   "source": [
    "wcss = []\n",
    "kmeans=KMeans(n_clusters=3, init=ct , n_init =1)\n",
    "kmeans.fit(data)\n",
    "wcss.append(kmeans.inertia_)"
   ]
  },
  {
   "cell_type": "code",
   "execution_count": 9,
   "id": "1e3d7b6f",
   "metadata": {},
   "outputs": [
    {
     "data": {
      "text/plain": [
       "[1921.033485856206,\n",
       " 1293.7774523911348,\n",
       " 788.2711441967958,\n",
       " 592.5283842592468,\n",
       " 462.9263558248374,\n",
       " 362.8660888144437,\n",
       " 289.9327260448383,\n",
       " 232.2784827805044,\n",
       " 182.72607076337144]"
      ]
     },
     "execution_count": 9,
     "metadata": {},
     "output_type": "execute_result"
    }
   ],
   "source": [
    "#euclidean distance from cluster 2 -10\n",
    "wcss"
   ]
  },
  {
   "cell_type": "code",
   "execution_count": 11,
   "id": "7c3b340f",
   "metadata": {},
   "outputs": [
    {
     "data": {
      "text/plain": [
       "[<matplotlib.lines.Line2D at 0x7ff220aed0d0>]"
      ]
     },
     "execution_count": 11,
     "metadata": {},
     "output_type": "execute_result"
    },
    {
     "data": {
      "image/png": "[encoded data removed]",
      "text/plain": [
       "<Figure size 432x288 with 1 Axes>"
      ]
     },
     "metadata": {
      "needs_background": "light"
     },
     "output_type": "display_data"
    }
   ],
   "source": [
    "plt.plot(range(2,11),wcss)"
   ]
  },
  {
   "cell_type": "code",
   "execution_count": null,
   "id": "a055263d",
   "metadata": {},
   "outputs": [],
   "source": [
    "\n",
    "ct= np.array([[6.6384501 , 8.33574252],\n",
    "              [7.06572 , 2.08940967],\n",
    "              [2.61508272 ,3.80685209]])"
   ]
  },
  {
   "cell_type": "code",
   "execution_count": null,
   "id": "6a609abd",
   "metadata": {},
   "outputs": [],
   "source": [
    "#kmeans.cluster_centers_"
   ]
  },
  {
   "cell_type": "code",
   "execution_count": 14,
   "id": "e225a5d4",
   "metadata": {},
   "outputs": [],
   "source": [
    "#kmeans = KMeans(n_clusters = 3 , init = {'k-means++' , ct})\n",
    "kmeans = KMeans(n_clusters = 5 , init = ct5, n_init =1)\n",
    "y_kmeans = kmeans.fit_predict(data) "
   ]
  },
  {
   "cell_type": "code",
   "execution_count": 15,
   "id": "e3d16d48",
   "metadata": {},
   "outputs": [
    {
     "data": {
      "text/plain": [
       "KMeans(init=array([[7.9628009 , 2.81761275],\n",
       "       [1.69565649, 7.68082458],\n",
       "       [1.76666071, 4.41759655],\n",
       "       [5.91832765, 3.04231385],\n",
       "       [2.0614632 , 8.22584366]]),\n",
       "       n_clusters=5, n_init=1)"
      ]
     },
     "execution_count": 15,
     "metadata": {},
     "output_type": "execute_result"
    }
   ],
   "source": [
    "kmeans"
   ]
  },
  {
   "cell_type": "code",
   "execution_count": 16,
   "id": "616fe48f",
   "metadata": {},
   "outputs": [
    {
     "data": {
      "text/plain": [
       "array([[7.55616782, 2.23516796],\n",
       "       [2.87490813, 7.01082281],\n",
       "       [2.68198633, 2.09461587],\n",
       "       [5.22321274, 4.22502829],\n",
       "       [6.7786424 , 8.07967641]])"
      ]
     },
     "execution_count": 16,
     "metadata": {},
     "output_type": "execute_result"
    }
   ],
   "source": [
    "kmeans.cluster_centers_"
   ]
  },
  {
   "cell_type": "code",
   "execution_count": 17,
   "id": "2be86f77",
   "metadata": {},
   "outputs": [
    {
     "data": {
      "text/plain": [
       "array([1, 4, 0, 3, 3, 1, 3, 2, 2, 0, 4, 1, 1, 3, 1, 4, 0, 4, 3, 1, 3, 4,\n",
       "       0, 1, 0, 0, 1, 3, 1, 2, 3, 3, 2, 1, 4, 1, 4, 3, 4, 1, 2, 2, 1, 3,\n",
       "       2, 0, 0, 3, 4, 1, 4, 1, 3, 1, 1, 4, 0, 2, 3, 3, 4, 4, 2, 1, 1, 3,\n",
       "       4, 4, 3, 1, 2, 1, 2, 1, 3, 0, 1, 1, 1, 4, 1, 1, 1, 4, 0, 3, 2, 1,\n",
       "       0, 2, 3, 3, 0, 2, 3, 0, 2, 4, 4, 0, 0, 4, 0, 1, 2, 2, 0, 4, 3, 0,\n",
       "       0, 3, 1, 4, 0, 2, 0, 4, 2, 4, 4, 1, 0, 0, 0, 4, 0, 1, 1, 1, 3, 2,\n",
       "       4, 4, 4, 4, 0, 2, 0, 2, 0, 1, 3, 1, 1, 3, 4, 1, 2, 3, 0, 1, 1, 2,\n",
       "       3, 0, 3, 3, 2, 3, 4, 4, 3, 3, 4, 4, 0, 4, 2, 2, 3, 3, 1, 4, 0, 2,\n",
       "       2, 1, 1, 2, 2, 0, 4, 4, 2, 0, 4, 1, 1, 2, 3, 1, 4, 0, 4, 4, 1, 2,\n",
       "       3, 2, 2, 4, 4, 2, 2, 2, 3, 0, 0, 0, 2, 4, 1, 1, 4, 2, 2, 2, 2, 2,\n",
       "       0, 2, 4, 0, 1, 0, 0, 1, 1, 0, 4, 1, 1, 4, 0, 4, 2, 4, 1, 4, 0, 3,\n",
       "       4, 4, 1, 1, 2, 3, 1, 3, 0, 3, 2, 2, 3, 2, 3, 4, 2, 1, 3, 3, 4, 1,\n",
       "       1, 4, 1, 2, 2, 4, 1, 2, 1, 2, 4, 4, 0, 1, 3, 1, 0, 0, 1, 4, 4, 3,\n",
       "       0, 4, 0, 1, 3, 2, 4, 0, 3, 1, 1, 2, 2, 0], dtype=int32)"
      ]
     },
     "execution_count": 17,
     "metadata": {},
     "output_type": "execute_result"
    }
   ],
   "source": [
    "y_kmeans"
   ]
  },
  {
   "cell_type": "code",
   "execution_count": 27,
   "id": "fc42c6a0",
   "metadata": {},
   "outputs": [
    {
     "data": {
      "text/plain": [
       "array([[7.55616782, 2.23516796],\n",
       "       [2.87490813, 7.01082281],\n",
       "       [2.68198633, 2.09461587],\n",
       "       [5.22321274, 4.22502829],\n",
       "       [6.7786424 , 8.07967641]])"
      ]
     },
     "execution_count": 27,
     "metadata": {},
     "output_type": "execute_result"
    }
   ],
   "source": [
    "kmeans.cluster_centers_"
   ]
  },
  {
   "cell_type": "code",
   "execution_count": 18,
   "id": "7fdd7453",
   "metadata": {},
   "outputs": [
    {
     "data": {
      "text/plain": [
       "<matplotlib.collections.PathCollection at 0x7ff220c90a60>"
      ]
     },
     "execution_count": 18,
     "metadata": {},
     "output_type": "execute_result"
    },
    {
     "data": {
      "image/png": "[encoded data removed]",
      "text/plain": [
       "<Figure size 432x288 with 1 Axes>"
      ]
     },
     "metadata": {
      "needs_background": "light"
     },
     "output_type": "display_data"
    }
   ],
   "source": [
    "# NOT IN NUMPY\n",
    "#pd.concat([data,pd.DataFrame(y_kmeans)],axis=1)\n",
    "plt.scatter(data[y_kmeans==0,0] , data[y_kmeans==0,1] , s=10 , c='blue')\n",
    "plt.scatter(data[y_kmeans==1,0] , data[y_kmeans==1,1] , s=10 , c='green')\n",
    "plt.scatter(data[y_kmeans==2,0] , data[y_kmeans==2,1] , s=10 , c='black')\n",
    "plt.scatter(data[y_kmeans==3,0] , data[y_kmeans==3,1] , s=10 , c='red')\n",
    "plt.scatter(data[y_kmeans==4,0] , data[y_kmeans==4,1] , s=10 , c='yellow')\n",
    "#plt.scatter(data[y_kmeans==5,0] , data[y_kmeans==5,1] , s=10 , c='pink')\n",
    "#plt.scatter(data[y_kmeans==6,0] , data[y_kmeans==6,1] , s=10 , c='brown')\n",
    "#plt.scatter(data[y_kmeans==7,0] , data[y_kmeans==7,1] , s=10 , c='orange')\n",
    "#plt.scatter(data[y_kmeans==8,0] , data[y_kmeans==8,1] , s=10 , c='violet')\n",
    "#plt.scatter(data[y_kmeans==9,0] , data[y_kmeans==9,1] , s=10 , c='lightblue')"
   ]
  },
  {
   "cell_type": "code",
   "execution_count": null,
   "id": "01a530a5",
   "metadata": {},
   "outputs": [],
   "source": [
    "'''\n",
    "array([[2.56146449, 6.08861338],\n",
    "       [5.47740039, 2.25498103],\n",
    "       [6.49724962, 7.52297293]])\n",
    "'''"
   ]
  }
 ],
 "metadata": {
  "kernelspec": {
   "display_name": "Python 3 (ipykernel)",
   "language": "python",
   "name": "python3"
  },
  "language_info": {
   "codemirror_mode": {
    "name": "ipython",
    "version": 3
   },
   "file_extension": ".py",
   "mimetype": "text/x-python",
   "name": "python",
   "nbconvert_exporter": "python",
   "pygments_lexer": "ipython3",
   "version": "3.9.12"
  }
 },
 "nbformat": 4,
 "nbformat_minor": 5
}
