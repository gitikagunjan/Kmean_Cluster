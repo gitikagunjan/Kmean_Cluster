{
 "cells": [
  {
   "cell_type": "code",
   "execution_count": 37,
   "id": "9a8cc472",
   "metadata": {},
   "outputs": [
    {
     "name": "stdout",
     "output_type": "stream",
     "text": [
      "\n",
      "Begin k-means clustering demo \n",
      "\n",
      "Strategy 1: k and initial points\n",
      "3\n",
      "[[6.6384501  8.33574252]\n",
      " [7.06572    2.08940967]\n",
      " [2.61508272 3.80685209]]\n",
      "5\n",
      "[[7.9628009  2.81761275]\n",
      " [1.69565649 7.68082458]\n",
      " [1.76666071 4.41759655]\n",
      " [5.91832765 3.04231385]\n",
      " [2.0614632  8.22584366]]\n",
      "(300, 2)\n"
     ]
    }
   ],
   "source": [
    "from Precode import *\n",
    "import numpy as np\n",
    "import math\n",
    "\n",
    "\n",
    "\n",
    "print(\"\\nBegin k-means clustering demo \\n\")\n",
    "data = np.load('AllSamples.npy')\n",
    "k1,i_point1,k2,i_point2 = initial_S1('1265') # please replace 0111 with your last four digit of your ID\n",
    "print(k1)\n",
    "print(i_point1)\n",
    "print(k2)\n",
    "print(i_point2)\n",
    "    \n",
    "\n",
    "    \n",
    "####MY CODE##\n",
    "\n",
    "print(data.shape)"
   ]
  },
  {
   "cell_type": "code",
   "execution_count": 38,
   "id": "d68bf1df",
   "metadata": {},
   "outputs": [],
   "source": [
    "def distance(item , mean):\n",
    "    eDistance = math.dist(item, mean)\n",
    "    return(eDistance)\n",
    "    "
   ]
  },
  {
   "cell_type": "code",
   "execution_count": 39,
   "id": "b5311ed7",
   "metadata": {},
   "outputs": [],
   "source": [
    "\n",
    "##cluster indexing\n",
    "def getClusterIndex(item, mean):\n",
    "    distance1 = np.zeros(mean.shape[0], float) \n",
    "    cluster = [] \n",
    "    for i in range(item.shape[0]):\n",
    "        for j in range(len(mean)):\n",
    "            distance1[j] = distance(item[i], mean[j])\n",
    "        new_idx = np.argmin(distance1)\n",
    "        cluster.append(new_idx)\n",
    "    return cluster\n"
   ]
  },
  {
   "cell_type": "code",
   "execution_count": 40,
   "id": "2f1d5bc2",
   "metadata": {},
   "outputs": [],
   "source": [
    "def updatemean(clust):\n",
    "    newmean = np.mean(clust , axis = 0)\n",
    "    loss= lossfunction(clust , newmean  )\n",
    "    return newmean , loss\n"
   ]
  },
  {
   "cell_type": "code",
   "execution_count": 41,
   "id": "3c3f3548",
   "metadata": {},
   "outputs": [],
   "source": [
    "#Assign Data point to cluster based on the shortest distance\n",
    "def assignCluster(item, cluster ,l,k ):\n",
    "    clust = np.empty((0,2), float)  \n",
    "    for i in range(item.shape[0]):\n",
    "        if(cluster[i] == l):\n",
    "            clust = np.append(clust, item[[i]], axis=0)\n",
    "    new_mean , loss = updatemean(clust) \n",
    "       \n",
    "    return new_mean , loss  \n"
   ]
  },
  {
   "cell_type": "code",
   "execution_count": 42,
   "id": "725effb7",
   "metadata": {},
   "outputs": [],
   "source": [
    "#Sum of squared distances of samples to their closest cluster center.\n",
    "\n",
    "def lossfunction(clust , mean):\n",
    "    s = 0.0\n",
    "    res= 0.0 \n",
    "    for i in range(clust.shape[0]):\n",
    "        s += (clust[i] - mean)**2\n",
    "    res= s[0] + s[1]\n",
    "    return res"
   ]
  },
  {
   "cell_type": "code",
   "execution_count": 57,
   "id": "4cdf239a",
   "metadata": {},
   "outputs": [],
   "source": [
    "k=4"
   ]
  },
  {
   "cell_type": "code",
   "execution_count": 58,
   "id": "b31deb46",
   "metadata": {},
   "outputs": [],
   "source": [
    "mean=np.zeros(shape=(k,2))"
   ]
  },
  {
   "cell_type": "code",
   "execution_count": 34,
   "id": "5ce7e883",
   "metadata": {},
   "outputs": [],
   "source": [
    "#Part1 initial centroid\n",
    "mean = np.array([[6.6384501 , 8.33574252],\n",
    "                [7.06572,2.08940967],\n",
    "                [2.61508272,3.80685209]])"
   ]
  },
  {
   "cell_type": "code",
   "execution_count": 44,
   "id": "6e09a467",
   "metadata": {},
   "outputs": [],
   "source": [
    "#Part1 initial centroid\n",
    "mean = np.array([[7.9628009 , 2.81761275],\n",
    "                 [1.69565649 , 7.68082458],\n",
    "                [1.76666071 , 4.41759655],\n",
    "                 [5.91832765 , 3.04231385],\n",
    "                 [2.0614632 ,  8.22584366]])\n"
   ]
  },
  {
   "cell_type": "code",
   "execution_count": 59,
   "id": "ed346752",
   "metadata": {},
   "outputs": [
    {
     "name": "stdout",
     "output_type": "stream",
     "text": [
      "Given Sample : [3.81135136, 5.98125361]\n"
     ]
    }
   ],
   "source": [
    "#Strategy2 initial centroid\n",
    "given = [3.81135136,5.98125361]\n",
    "print(\"Given Sample :\", given)\n",
    "mean=np.array([[3.81135136, 5.98125361],\n",
    "             [3.85212146, -1.08715226],\n",
    "             [9.26998864, 9.62492869],\n",
    "             [2.95297924, 9.65073899]])"
   ]
  },
  {
   "cell_type": "code",
   "execution_count": 54,
   "id": "2970c564",
   "metadata": {},
   "outputs": [
    {
     "name": "stdout",
     "output_type": "stream",
     "text": [
      "Given Sample : [5.48121965, 6.55171777]\n"
     ]
    }
   ],
   "source": [
    "#Strategy2 initial centroid\n",
    "given = [5.48121965, 6.55171777]\n",
    "print(\"Given Sample :\", given)\n",
    "mean = np.array([[5.48121965, 6.55171777],\n",
    "               [3.85212146, -1.08715226],\n",
    "               [9.26998864, 9.62492869],\n",
    "               [1.20162248, 7.68639714],\n",
    "               [6.5807212, -0.0766824],\n",
    "               [2.95297924, 9.65073899]])"
   ]
  },
  {
   "cell_type": "code",
   "execution_count": 60,
   "id": "1f6f14a6",
   "metadata": {
    "scrolled": true
   },
   "outputs": [
    {
     "name": "stdout",
     "output_type": "stream",
     "text": [
      "K value:  4\n",
      "Initial Centroid:  [[ 3.81135136  5.98125361]\n",
      " [ 3.85212146 -1.08715226]\n",
      " [ 9.26998864  9.62492869]\n",
      " [ 2.95297924  9.65073899]]\n",
      "New Centroids:  14 [[3.33995748 2.59215224]\n",
      " [7.38076264 2.33245532]\n",
      " [6.60345839 7.57042104]\n",
      " [2.85859235 6.93136525]]\n",
      "Loss for each cluster : [281.11869139 104.03148383 272.8882867  130.23088709]\n",
      "Total Loss : 788.269349006556\n"
     ]
    }
   ],
   "source": [
    "\n",
    "print('K value: ', k)\n",
    "print('Initial Centroid: ',mean)\n",
    "\n",
    "\n",
    "new_cluster = np.zeros(data.shape[0])\n",
    "loss=np.zeros(mean.shape[0], float) \n",
    "cluster = getClusterIndex(data, mean)\n",
    "\n",
    "for r in range(20):\n",
    "    if np.array_equal(cluster, new_cluster):  # break if no change\n",
    "        print(\"New Centroids: \" ,r , mean)\n",
    "        print('Loss for each cluster :', loss)\n",
    "        break\n",
    "    new_cluster = np.copy(cluster)\n",
    "    for i in range(k):\n",
    "        mean[i] , loss[i] = assignCluster(data, cluster,i, k)\n",
    "    cluster = getClusterIndex(data, mean)\n",
    "\n",
    "\n",
    "objecticeloss = np.sum(loss , axis =0)\n",
    "print('Total Loss :', objecticeloss)\n",
    "\n",
    "\n",
    "\n",
    "\n",
    "\n",
    "\n",
    "\n",
    "\n"
   ]
  },
  {
   "cell_type": "code",
   "execution_count": null,
   "id": "5097310f",
   "metadata": {},
   "outputs": [],
   "source": []
  },
  {
   "cell_type": "code",
   "execution_count": null,
   "id": "187bec1d",
   "metadata": {},
   "outputs": [],
   "source": [
    "\n",
    "import numpy as np\n",
    "import math\n",
    "\n",
    "a = np.array([[1,2],\n",
    "     [2,8]])\n",
    "\n",
    "b = np.array([[1 ,4],\n",
    "     [2,6]])\n",
    "eDistance = 0.0\n",
    "for i in range(len(b)):\n",
    "    \n",
    "    for j in range(len(a)): \n",
    "        eDistance += math.dist(a[j], b[i])\n",
    "print(eDistance)\n",
    "\n",
    "Distance = math.dist(a[1], b[0])\n",
    "#print(Distance)"
   ]
  },
  {
   "cell_type": "code",
   "execution_count": null,
   "id": "5adaefec",
   "metadata": {},
   "outputs": [],
   "source": [
    "a = np.array([[1,2],\n",
    "     [2,8]])\n",
    "\n",
    "b = np.array([[1 ,4],\n",
    "     [2,6]])\n",
    "s = 0.0\n",
    "loss= 0.0\n",
    "for i in range(len(b)):\n",
    "    for j in range(len(a)):\n",
    "        s += (a[j] - b[i])**2\n",
    "s= s[0] + s[1]\n",
    "dis = np.sqrt(s)\n",
    "print(s)\n",
    "print(dis)"
   ]
  },
  {
   "cell_type": "code",
   "execution_count": null,
   "id": "32a520e4",
   "metadata": {},
   "outputs": [],
   "source": [
    "a = np.array( [312.72430727,643.70812896, 337.86598125])\n",
    "print(a.shape)\n",
    "d= np.sum(a, axis=0)\n",
    "print(d)"
   ]
  },
  {
   "cell_type": "code",
   "execution_count": null,
   "id": "9340d6a0",
   "metadata": {},
   "outputs": [],
   "source": []
  }
 ],
 "metadata": {
  "kernelspec": {
   "display_name": "Python 3 (ipykernel)",
   "language": "python",
   "name": "python3"
  },
  "language_info": {
   "codemirror_mode": {
    "name": "ipython",
    "version": 3
   },
   "file_extension": ".py",
   "mimetype": "text/x-python",
   "name": "python",
   "nbconvert_exporter": "python",
   "pygments_lexer": "ipython3",
   "version": "3.9.12"
  }
 },
 "nbformat": 4,
 "nbformat_minor": 5
}
